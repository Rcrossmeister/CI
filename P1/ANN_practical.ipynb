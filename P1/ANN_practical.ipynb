{
 "cells": [
  {
   "cell_type": "markdown",
   "metadata": {
    "colab_type": "text",
    "id": "lP6JLo1tGNBg"
   },
   "source": [
    "# Artificial Neural Network"
   ]
  },
  {
   "cell_type": "markdown",
   "metadata": {
    "colab_type": "text",
    "id": "gWZyYmS_UE_L"
   },
   "source": [
    "### Importing the libraries"
   ]
  },
  {
   "cell_type": "code",
   "execution_count": 1,
   "outputs": [
    {
     "name": "stderr",
     "output_type": "stream",
     "text": [
      "2023-09-19 10:57:27.497537: I tensorflow/core/platform/cpu_feature_guard.cc:182] This TensorFlow binary is optimized to use available CPU instructions in performance-critical operations.\n",
      "To enable the following instructions: AVX2 FMA, in other operations, rebuild TensorFlow with the appropriate compiler flags.\n"
     ]
    }
   ],
   "source": [
    "import tensorflow as tf"
   ],
   "metadata": {
    "collapsed": false,
    "ExecuteTime": {
     "end_time": "2023-09-19T02:57:29.842659Z",
     "start_time": "2023-09-19T02:57:26.054488Z"
    }
   }
  },
  {
   "cell_type": "code",
   "execution_count": 2,
   "metadata": {
    "colab": {},
    "colab_type": "code",
    "id": "MxkJoQBkUIHC",
    "ExecuteTime": {
     "end_time": "2023-09-19T03:08:44.760624Z",
     "start_time": "2023-09-19T03:08:44.756305Z"
    }
   },
   "outputs": [],
   "source": [
    "import numpy as np\n",
    "import pandas as pd"
   ]
  },
  {
   "cell_type": "code",
   "execution_count": 3,
   "metadata": {
    "colab": {
     "base_uri": "https://localhost:8080/",
     "height": 34
    },
    "colab_type": "code",
    "executionInfo": {
     "elapsed": 2400,
     "status": "ok",
     "timestamp": 1590257449959,
     "user": {
      "displayName": "Hadelin de Ponteves",
      "photoUrl": "https://lh3.googleusercontent.com/a-/AOh14GhEuXdT7eQweUmRPW8_laJuPggSK6hfvpl5a6WBaA=s64",
      "userId": "15047218817161520419"
     },
     "user_tz": -240
    },
    "id": "ZaTwK7ojXr2F",
    "outputId": "0b27a96d-d11a-43e8-ab4b-87c1f01896fe",
    "ExecuteTime": {
     "end_time": "2023-09-19T03:08:45.708689Z",
     "start_time": "2023-09-19T03:08:45.687144Z"
    }
   },
   "outputs": [
    {
     "data": {
      "text/plain": "'2.13.0'"
     },
     "execution_count": 3,
     "metadata": {},
     "output_type": "execute_result"
    }
   ],
   "source": [
    "tf.__version__"
   ]
  },
  {
   "cell_type": "markdown",
   "metadata": {
    "colab_type": "text",
    "id": "1E0Q3aoKUCRX"
   },
   "source": [
    "## Part 1 - Data Preprocessing"
   ]
  },
  {
   "cell_type": "markdown",
   "metadata": {
    "colab_type": "text",
    "id": "cKWAkFVGUU0Z"
   },
   "source": [
    "### Importing the dataset"
   ]
  },
  {
   "cell_type": "code",
   "execution_count": 6,
   "metadata": {
    "colab": {},
    "colab_type": "code",
    "id": "MXUkhkMfU4wq",
    "ExecuteTime": {
     "end_time": "2023-09-19T03:17:32.877488Z",
     "start_time": "2023-09-19T03:17:32.835274Z"
    }
   },
   "outputs": [],
   "source": [
    "dataset = pd.read_csv('Churn_Modelling.csv')\n",
    "X = dataset.iloc[:, 3:-1].values\n",
    "y = dataset.iloc[:, -1].values"
   ]
  },
  {
   "cell_type": "code",
   "execution_count": 7,
   "metadata": {
    "colab": {
     "base_uri": "https://localhost:8080/",
     "height": 137
    },
    "colab_type": "code",
    "executionInfo": {
     "elapsed": 2396,
     "status": "ok",
     "timestamp": 1590257449961,
     "user": {
      "displayName": "Hadelin de Ponteves",
      "photoUrl": "https://lh3.googleusercontent.com/a-/AOh14GhEuXdT7eQweUmRPW8_laJuPggSK6hfvpl5a6WBaA=s64",
      "userId": "15047218817161520419"
     },
     "user_tz": -240
    },
    "id": "VYP9cQTWbzuI",
    "outputId": "797e7a64-9bac-436a-8c9c-94437e5e7587",
    "ExecuteTime": {
     "end_time": "2023-09-19T03:17:33.790723Z",
     "start_time": "2023-09-19T03:17:33.785212Z"
    }
   },
   "outputs": [
    {
     "name": "stdout",
     "output_type": "stream",
     "text": [
      "[[619 'France' 'Female' ... 1 1 101348.88]\n",
      " [608 'Spain' 'Female' ... 0 1 112542.58]\n",
      " [502 'France' 'Female' ... 1 0 113931.57]\n",
      " ...\n",
      " [709 'France' 'Female' ... 0 1 42085.58]\n",
      " [772 'Germany' 'Male' ... 1 0 92888.52]\n",
      " [792 'France' 'Female' ... 1 0 38190.78]]\n"
     ]
    }
   ],
   "source": [
    "print(X)"
   ]
  },
  {
   "cell_type": "code",
   "execution_count": 8,
   "metadata": {
    "colab": {
     "base_uri": "https://localhost:8080/",
     "height": 34
    },
    "colab_type": "code",
    "executionInfo": {
     "elapsed": 2391,
     "status": "ok",
     "timestamp": 1590257449961,
     "user": {
      "displayName": "Hadelin de Ponteves",
      "photoUrl": "https://lh3.googleusercontent.com/a-/AOh14GhEuXdT7eQweUmRPW8_laJuPggSK6hfvpl5a6WBaA=s64",
      "userId": "15047218817161520419"
     },
     "user_tz": -240
    },
    "id": "38vKGE6Nb2RR",
    "outputId": "a815e42a-e0dd-4cb5-ab97-b17ead98fbc3",
    "ExecuteTime": {
     "end_time": "2023-09-19T03:17:34.623882Z",
     "start_time": "2023-09-19T03:17:34.611754Z"
    }
   },
   "outputs": [
    {
     "name": "stdout",
     "output_type": "stream",
     "text": [
      "[1 0 1 ... 1 1 0]\n"
     ]
    }
   ],
   "source": [
    "print(y)"
   ]
  },
  {
   "cell_type": "markdown",
   "metadata": {
    "colab_type": "text",
    "id": "N6bQ0UgSU-NJ"
   },
   "source": [
    "### Encoding categorical data"
   ]
  },
  {
   "cell_type": "markdown",
   "metadata": {
    "colab_type": "text",
    "id": "le5MJreAbW52"
   },
   "source": [
    "Label Encoding the \"Gender\" column"
   ]
  },
  {
   "cell_type": "code",
   "execution_count": 9,
   "metadata": {
    "colab": {},
    "colab_type": "code",
    "id": "PxVKWXxLbczC",
    "ExecuteTime": {
     "end_time": "2023-09-19T03:17:39.621441Z",
     "start_time": "2023-09-19T03:17:38.577269Z"
    }
   },
   "outputs": [],
   "source": [
    "from sklearn.preprocessing import LabelEncoder\n",
    "le = LabelEncoder()\n",
    "X[:, 2] = le.fit_transform(X[:, 2])"
   ]
  },
  {
   "cell_type": "code",
   "execution_count": 10,
   "metadata": {
    "colab": {
     "base_uri": "https://localhost:8080/",
     "height": 137
    },
    "colab_type": "code",
    "executionInfo": {
     "elapsed": 2719,
     "status": "ok",
     "timestamp": 1590257450295,
     "user": {
      "displayName": "Hadelin de Ponteves",
      "photoUrl": "https://lh3.googleusercontent.com/a-/AOh14GhEuXdT7eQweUmRPW8_laJuPggSK6hfvpl5a6WBaA=s64",
      "userId": "15047218817161520419"
     },
     "user_tz": -240
    },
    "id": "-M1KboxFb6OO",
    "outputId": "e2b8c7e8-0cbc-4cdf-f4eb-7f0853a00b88",
    "ExecuteTime": {
     "end_time": "2023-09-19T03:17:41.349058Z",
     "start_time": "2023-09-19T03:17:41.337897Z"
    }
   },
   "outputs": [
    {
     "name": "stdout",
     "output_type": "stream",
     "text": [
      "[[619 'France' 0 ... 1 1 101348.88]\n",
      " [608 'Spain' 0 ... 0 1 112542.58]\n",
      " [502 'France' 0 ... 1 0 113931.57]\n",
      " ...\n",
      " [709 'France' 0 ... 0 1 42085.58]\n",
      " [772 'Germany' 1 ... 1 0 92888.52]\n",
      " [792 'France' 0 ... 1 0 38190.78]]\n"
     ]
    }
   ],
   "source": [
    "print(X)"
   ]
  },
  {
   "cell_type": "markdown",
   "metadata": {
    "colab_type": "text",
    "id": "CUxGZezpbMcb"
   },
   "source": [
    "One Hot Encoding the \"Geography\" column"
   ]
  },
  {
   "cell_type": "code",
   "execution_count": 11,
   "metadata": {
    "colab": {},
    "colab_type": "code",
    "id": "AMXC8-KMVirw",
    "ExecuteTime": {
     "end_time": "2023-09-19T03:24:42.819249Z",
     "start_time": "2023-09-19T03:24:42.787678Z"
    }
   },
   "outputs": [],
   "source": [
    "from sklearn.compose import ColumnTransformer\n",
    "from sklearn.preprocessing import OneHotEncoder\n",
    "ct = ColumnTransformer(transformers=[('encoder', OneHotEncoder(), [1])], remainder='passthrough')\n",
    "X = np.array(ct.fit_transform(X))"
   ]
  },
  {
   "cell_type": "code",
   "execution_count": 12,
   "metadata": {
    "colab": {
     "base_uri": "https://localhost:8080/",
     "height": 137
    },
    "colab_type": "code",
    "executionInfo": {
     "elapsed": 2713,
     "status": "ok",
     "timestamp": 1590257450296,
     "user": {
      "displayName": "Hadelin de Ponteves",
      "photoUrl": "https://lh3.googleusercontent.com/a-/AOh14GhEuXdT7eQweUmRPW8_laJuPggSK6hfvpl5a6WBaA=s64",
      "userId": "15047218817161520419"
     },
     "user_tz": -240
    },
    "id": "ZcxwEon-b8nV",
    "outputId": "23a98af4-5e33-4b26-c27b-f06e3c5d2baf",
    "ExecuteTime": {
     "end_time": "2023-09-19T03:24:46.284245Z",
     "start_time": "2023-09-19T03:24:46.274532Z"
    }
   },
   "outputs": [
    {
     "name": "stdout",
     "output_type": "stream",
     "text": [
      "[[1.0 0.0 0.0 ... 1 1 101348.88]\n",
      " [0.0 0.0 1.0 ... 0 1 112542.58]\n",
      " [1.0 0.0 0.0 ... 1 0 113931.57]\n",
      " ...\n",
      " [1.0 0.0 0.0 ... 0 1 42085.58]\n",
      " [0.0 1.0 0.0 ... 1 0 92888.52]\n",
      " [1.0 0.0 0.0 ... 1 0 38190.78]]\n"
     ]
    }
   ],
   "source": [
    "print(X)"
   ]
  },
  {
   "cell_type": "markdown",
   "metadata": {
    "colab_type": "text",
    "id": "vHol938cW8zd"
   },
   "source": [
    "### Splitting the dataset into the Training set and Test set"
   ]
  },
  {
   "cell_type": "code",
   "execution_count": 13,
   "metadata": {
    "colab": {},
    "colab_type": "code",
    "id": "Z-TDt0Y_XEfc",
    "ExecuteTime": {
     "end_time": "2023-09-19T03:24:48.470730Z",
     "start_time": "2023-09-19T03:24:48.350305Z"
    }
   },
   "outputs": [],
   "source": [
    "from sklearn.model_selection import train_test_split\n",
    "X_train, X_test, y_train, y_test = train_test_split(X, y, test_size = 0.2, random_state = 0)"
   ]
  },
  {
   "cell_type": "markdown",
   "metadata": {
    "colab_type": "text",
    "id": "RE_FcHyfV3TQ"
   },
   "source": [
    "### Feature Scaling"
   ]
  },
  {
   "cell_type": "code",
   "execution_count": 14,
   "metadata": {
    "colab": {},
    "colab_type": "code",
    "id": "ViCrE00rV8Sk",
    "ExecuteTime": {
     "end_time": "2023-09-19T03:24:51.778286Z",
     "start_time": "2023-09-19T03:24:51.756692Z"
    }
   },
   "outputs": [],
   "source": [
    "from sklearn.preprocessing import StandardScaler\n",
    "sc = StandardScaler()\n",
    "X_train = sc.fit_transform(X_train)\n",
    "X_test = sc.transform(X_test)"
   ]
  },
  {
   "cell_type": "markdown",
   "metadata": {
    "colab_type": "text",
    "id": "-zfEzkRVXIwF"
   },
   "source": [
    "## Part 2 - Building the ANN"
   ]
  },
  {
   "cell_type": "markdown",
   "metadata": {
    "colab_type": "text",
    "id": "KvdeScabXtlB"
   },
   "source": [
    "### Initializing the ANN"
   ]
  },
  {
   "cell_type": "code",
   "execution_count": 15,
   "metadata": {
    "colab": {},
    "colab_type": "code",
    "id": "3dtrScHxXQox",
    "ExecuteTime": {
     "end_time": "2023-09-19T03:24:53.435959Z",
     "start_time": "2023-09-19T03:24:53.362614Z"
    }
   },
   "outputs": [],
   "source": [
    "ann = tf.keras.models.Sequential()"
   ]
  },
  {
   "cell_type": "markdown",
   "metadata": {
    "colab_type": "text",
    "id": "rP6urV6SX7kS"
   },
   "source": [
    "### Adding the input layer and the first hidden layer"
   ]
  },
  {
   "cell_type": "code",
   "execution_count": 16,
   "metadata": {
    "colab": {},
    "colab_type": "code",
    "id": "bppGycBXYCQr",
    "ExecuteTime": {
     "end_time": "2023-09-19T03:24:54.584282Z",
     "start_time": "2023-09-19T03:24:54.580247Z"
    }
   },
   "outputs": [],
   "source": [
    "ann.add(tf.keras.layers.Dense(units=6, activation='relu'))"
   ]
  },
  {
   "cell_type": "markdown",
   "metadata": {
    "colab_type": "text",
    "id": "BELWAc_8YJze"
   },
   "source": [
    "### Adding the second hidden layer"
   ]
  },
  {
   "cell_type": "code",
   "execution_count": 17,
   "metadata": {
    "colab": {},
    "colab_type": "code",
    "id": "JneR0u0sYRTd",
    "ExecuteTime": {
     "end_time": "2023-09-19T03:24:56.548460Z",
     "start_time": "2023-09-19T03:24:56.540186Z"
    }
   },
   "outputs": [],
   "source": [
    "ann.add(tf.keras.layers.Dense(units=6, activation='relu'))"
   ]
  },
  {
   "cell_type": "markdown",
   "metadata": {
    "colab_type": "text",
    "id": "OyNEe6RXYcU4"
   },
   "source": [
    "### Adding the output layer"
   ]
  },
  {
   "cell_type": "code",
   "execution_count": 18,
   "metadata": {
    "colab": {},
    "colab_type": "code",
    "id": "Cn3x41RBYfvY",
    "ExecuteTime": {
     "end_time": "2023-09-19T03:24:57.422500Z",
     "start_time": "2023-09-19T03:24:57.415747Z"
    }
   },
   "outputs": [],
   "source": [
    "ann.add(tf.keras.layers.Dense(units=1, activation='sigmoid'))"
   ]
  },
  {
   "cell_type": "markdown",
   "metadata": {
    "colab_type": "text",
    "id": "JT4u2S1_Y4WG"
   },
   "source": [
    "## Part 3 - Training the ANN"
   ]
  },
  {
   "cell_type": "markdown",
   "metadata": {
    "colab_type": "text",
    "id": "8GWlJChhY_ZI"
   },
   "source": [
    "### Compiling the ANN"
   ]
  },
  {
   "cell_type": "code",
   "execution_count": 19,
   "metadata": {
    "colab": {},
    "colab_type": "code",
    "id": "fG3RrwDXZEaS",
    "ExecuteTime": {
     "end_time": "2023-09-19T03:24:59.639719Z",
     "start_time": "2023-09-19T03:24:59.621428Z"
    }
   },
   "outputs": [],
   "source": [
    "ann.compile(optimizer = 'adam', loss = 'binary_crossentropy', metrics = ['accuracy'])"
   ]
  },
  {
   "cell_type": "markdown",
   "metadata": {
    "colab_type": "text",
    "id": "0QR_G5u7ZLSM"
   },
   "source": [
    "### Training the ANN on the Training set"
   ]
  },
  {
   "cell_type": "code",
   "execution_count": 20,
   "metadata": {
    "colab": {
     "base_uri": "https://localhost:8080/",
     "height": 1000
    },
    "colab_type": "code",
    "executionInfo": {
     "elapsed": 33685,
     "status": "ok",
     "timestamp": 1590257481284,
     "user": {
      "displayName": "Hadelin de Ponteves",
      "photoUrl": "https://lh3.googleusercontent.com/a-/AOh14GhEuXdT7eQweUmRPW8_laJuPggSK6hfvpl5a6WBaA=s64",
      "userId": "15047218817161520419"
     },
     "user_tz": -240
    },
    "id": "nHZ-LKv_ZRb3",
    "outputId": "718cc4b0-b5aa-40f0-9b20-d3d31730a531",
    "ExecuteTime": {
     "end_time": "2023-09-19T03:25:20.326885Z",
     "start_time": "2023-09-19T03:25:00.706565Z"
    }
   },
   "outputs": [
    {
     "name": "stdout",
     "output_type": "stream",
     "text": [
      "Epoch 1/100\n",
      "250/250 [==============================] - 1s 1ms/step - loss: 0.6807 - accuracy: 0.6030\n",
      "Epoch 2/100\n",
      "250/250 [==============================] - 0s 1ms/step - loss: 0.4865 - accuracy: 0.7962\n",
      "Epoch 3/100\n",
      "250/250 [==============================] - 0s 919us/step - loss: 0.4635 - accuracy: 0.7970\n",
      "Epoch 4/100\n",
      "250/250 [==============================] - 0s 874us/step - loss: 0.4501 - accuracy: 0.8001\n",
      "Epoch 5/100\n",
      "250/250 [==============================] - 0s 894us/step - loss: 0.4401 - accuracy: 0.8020\n",
      "Epoch 6/100\n",
      "250/250 [==============================] - 0s 890us/step - loss: 0.4330 - accuracy: 0.8071\n",
      "Epoch 7/100\n",
      "250/250 [==============================] - 0s 949us/step - loss: 0.4284 - accuracy: 0.8116\n",
      "Epoch 8/100\n",
      "250/250 [==============================] - 0s 919us/step - loss: 0.4247 - accuracy: 0.8151\n",
      "Epoch 9/100\n",
      "250/250 [==============================] - 0s 767us/step - loss: 0.4214 - accuracy: 0.8183\n",
      "Epoch 10/100\n",
      "250/250 [==============================] - 0s 755us/step - loss: 0.4193 - accuracy: 0.8192\n",
      "Epoch 11/100\n",
      "250/250 [==============================] - 0s 748us/step - loss: 0.4175 - accuracy: 0.8211\n",
      "Epoch 12/100\n",
      "250/250 [==============================] - 0s 726us/step - loss: 0.4156 - accuracy: 0.8229\n",
      "Epoch 13/100\n",
      "250/250 [==============================] - 0s 747us/step - loss: 0.4142 - accuracy: 0.8255\n",
      "Epoch 14/100\n",
      "250/250 [==============================] - 0s 778us/step - loss: 0.4128 - accuracy: 0.8265\n",
      "Epoch 15/100\n",
      "250/250 [==============================] - 0s 741us/step - loss: 0.4112 - accuracy: 0.8253\n",
      "Epoch 16/100\n",
      "250/250 [==============================] - 0s 863us/step - loss: 0.4096 - accuracy: 0.8282\n",
      "Epoch 17/100\n",
      "250/250 [==============================] - 0s 892us/step - loss: 0.4079 - accuracy: 0.8291\n",
      "Epoch 18/100\n",
      "250/250 [==============================] - 0s 744us/step - loss: 0.4064 - accuracy: 0.8274\n",
      "Epoch 19/100\n",
      "250/250 [==============================] - 0s 746us/step - loss: 0.4045 - accuracy: 0.8285\n",
      "Epoch 20/100\n",
      "250/250 [==============================] - 0s 753us/step - loss: 0.4037 - accuracy: 0.8307\n",
      "Epoch 21/100\n",
      "250/250 [==============================] - 0s 702us/step - loss: 0.4021 - accuracy: 0.8303\n",
      "Epoch 22/100\n",
      "250/250 [==============================] - 0s 746us/step - loss: 0.4009 - accuracy: 0.8322\n",
      "Epoch 23/100\n",
      "250/250 [==============================] - 0s 786us/step - loss: 0.3997 - accuracy: 0.8341\n",
      "Epoch 24/100\n",
      "250/250 [==============================] - 0s 722us/step - loss: 0.3935 - accuracy: 0.8371\n",
      "Epoch 25/100\n",
      "250/250 [==============================] - 0s 698us/step - loss: 0.3841 - accuracy: 0.8444\n",
      "Epoch 26/100\n",
      "250/250 [==============================] - 0s 684us/step - loss: 0.3737 - accuracy: 0.8490\n",
      "Epoch 27/100\n",
      "250/250 [==============================] - 0s 867us/step - loss: 0.3661 - accuracy: 0.8521\n",
      "Epoch 28/100\n",
      "250/250 [==============================] - 0s 715us/step - loss: 0.3609 - accuracy: 0.8535\n",
      "Epoch 29/100\n",
      "250/250 [==============================] - 0s 805us/step - loss: 0.3577 - accuracy: 0.8545\n",
      "Epoch 30/100\n",
      "250/250 [==============================] - 0s 717us/step - loss: 0.3555 - accuracy: 0.8550\n",
      "Epoch 31/100\n",
      "250/250 [==============================] - 0s 779us/step - loss: 0.3534 - accuracy: 0.8545\n",
      "Epoch 32/100\n",
      "250/250 [==============================] - 0s 689us/step - loss: 0.3519 - accuracy: 0.8545\n",
      "Epoch 33/100\n",
      "250/250 [==============================] - 0s 697us/step - loss: 0.3508 - accuracy: 0.8549\n",
      "Epoch 34/100\n",
      "250/250 [==============================] - 0s 699us/step - loss: 0.3497 - accuracy: 0.8554\n",
      "Epoch 35/100\n",
      "250/250 [==============================] - 0s 800us/step - loss: 0.3487 - accuracy: 0.8562\n",
      "Epoch 36/100\n",
      "250/250 [==============================] - 0s 822us/step - loss: 0.3477 - accuracy: 0.8571\n",
      "Epoch 37/100\n",
      "250/250 [==============================] - 0s 735us/step - loss: 0.3468 - accuracy: 0.8564\n",
      "Epoch 38/100\n",
      "250/250 [==============================] - 0s 736us/step - loss: 0.3462 - accuracy: 0.8576\n",
      "Epoch 39/100\n",
      "250/250 [==============================] - 0s 715us/step - loss: 0.3457 - accuracy: 0.8564\n",
      "Epoch 40/100\n",
      "250/250 [==============================] - 0s 780us/step - loss: 0.3451 - accuracy: 0.8586\n",
      "Epoch 41/100\n",
      "250/250 [==============================] - 0s 809us/step - loss: 0.3445 - accuracy: 0.8565\n",
      "Epoch 42/100\n",
      "250/250 [==============================] - 0s 686us/step - loss: 0.3433 - accuracy: 0.8565\n",
      "Epoch 43/100\n",
      "250/250 [==============================] - 0s 693us/step - loss: 0.3439 - accuracy: 0.8569\n",
      "Epoch 44/100\n",
      "250/250 [==============================] - 0s 727us/step - loss: 0.3438 - accuracy: 0.8565\n",
      "Epoch 45/100\n",
      "250/250 [==============================] - 0s 683us/step - loss: 0.3431 - accuracy: 0.8566\n",
      "Epoch 46/100\n",
      "250/250 [==============================] - 0s 691us/step - loss: 0.3426 - accuracy: 0.8560\n",
      "Epoch 47/100\n",
      "250/250 [==============================] - 0s 683us/step - loss: 0.3418 - accuracy: 0.8558\n",
      "Epoch 48/100\n",
      "250/250 [==============================] - 0s 733us/step - loss: 0.3416 - accuracy: 0.8593\n",
      "Epoch 49/100\n",
      "250/250 [==============================] - 0s 684us/step - loss: 0.3412 - accuracy: 0.8600\n",
      "Epoch 50/100\n",
      "250/250 [==============================] - 0s 723us/step - loss: 0.3409 - accuracy: 0.8595\n",
      "Epoch 51/100\n",
      "250/250 [==============================] - 0s 753us/step - loss: 0.3408 - accuracy: 0.8610\n",
      "Epoch 52/100\n",
      "250/250 [==============================] - 0s 685us/step - loss: 0.3401 - accuracy: 0.8611\n",
      "Epoch 53/100\n",
      "250/250 [==============================] - 0s 728us/step - loss: 0.3404 - accuracy: 0.8601\n",
      "Epoch 54/100\n",
      "250/250 [==============================] - 0s 680us/step - loss: 0.3400 - accuracy: 0.8609\n",
      "Epoch 55/100\n",
      "250/250 [==============================] - 0s 682us/step - loss: 0.3396 - accuracy: 0.8624\n",
      "Epoch 56/100\n",
      "250/250 [==============================] - 0s 693us/step - loss: 0.3394 - accuracy: 0.8615\n",
      "Epoch 57/100\n",
      "250/250 [==============================] - 0s 697us/step - loss: 0.3392 - accuracy: 0.8624\n",
      "Epoch 58/100\n",
      "250/250 [==============================] - 0s 682us/step - loss: 0.3389 - accuracy: 0.8619\n",
      "Epoch 59/100\n",
      "250/250 [==============================] - 0s 692us/step - loss: 0.3391 - accuracy: 0.8620\n",
      "Epoch 60/100\n",
      "250/250 [==============================] - 0s 699us/step - loss: 0.3387 - accuracy: 0.8619\n",
      "Epoch 61/100\n",
      "250/250 [==============================] - 0s 691us/step - loss: 0.3387 - accuracy: 0.8622\n",
      "Epoch 62/100\n",
      "250/250 [==============================] - 0s 681us/step - loss: 0.3383 - accuracy: 0.8604\n",
      "Epoch 63/100\n",
      "250/250 [==============================] - 0s 739us/step - loss: 0.3383 - accuracy: 0.8629\n",
      "Epoch 64/100\n",
      "250/250 [==============================] - 0s 713us/step - loss: 0.3381 - accuracy: 0.8634\n",
      "Epoch 65/100\n",
      "250/250 [==============================] - 0s 697us/step - loss: 0.3382 - accuracy: 0.8622\n",
      "Epoch 66/100\n",
      "250/250 [==============================] - 0s 690us/step - loss: 0.3379 - accuracy: 0.8631\n",
      "Epoch 67/100\n",
      "250/250 [==============================] - 0s 684us/step - loss: 0.3381 - accuracy: 0.8631\n",
      "Epoch 68/100\n",
      "250/250 [==============================] - 0s 690us/step - loss: 0.3376 - accuracy: 0.8629\n",
      "Epoch 69/100\n",
      "250/250 [==============================] - 0s 685us/step - loss: 0.3377 - accuracy: 0.8621\n",
      "Epoch 70/100\n",
      "250/250 [==============================] - 0s 727us/step - loss: 0.3381 - accuracy: 0.8621\n",
      "Epoch 71/100\n",
      "250/250 [==============================] - 0s 724us/step - loss: 0.3373 - accuracy: 0.8633\n",
      "Epoch 72/100\n",
      "250/250 [==============================] - 0s 698us/step - loss: 0.3372 - accuracy: 0.8619\n",
      "Epoch 73/100\n",
      "250/250 [==============================] - 0s 690us/step - loss: 0.3373 - accuracy: 0.8622\n",
      "Epoch 74/100\n",
      "250/250 [==============================] - 0s 702us/step - loss: 0.3373 - accuracy: 0.8631\n",
      "Epoch 75/100\n",
      "250/250 [==============================] - 0s 680us/step - loss: 0.3375 - accuracy: 0.8621\n",
      "Epoch 76/100\n",
      "250/250 [==============================] - 0s 703us/step - loss: 0.3368 - accuracy: 0.8630\n",
      "Epoch 77/100\n",
      "250/250 [==============================] - 0s 736us/step - loss: 0.3371 - accuracy: 0.8626\n",
      "Epoch 78/100\n",
      "250/250 [==============================] - 0s 825us/step - loss: 0.3369 - accuracy: 0.8625\n",
      "Epoch 79/100\n",
      "250/250 [==============================] - 0s 722us/step - loss: 0.3367 - accuracy: 0.8620\n",
      "Epoch 80/100\n",
      "250/250 [==============================] - 0s 736us/step - loss: 0.3370 - accuracy: 0.8631\n",
      "Epoch 81/100\n",
      "250/250 [==============================] - 0s 683us/step - loss: 0.3367 - accuracy: 0.8618\n",
      "Epoch 82/100\n",
      "250/250 [==============================] - 0s 723us/step - loss: 0.3370 - accuracy: 0.8631\n",
      "Epoch 83/100\n",
      "250/250 [==============================] - 0s 734us/step - loss: 0.3367 - accuracy: 0.8620\n",
      "Epoch 84/100\n",
      "250/250 [==============================] - 0s 698us/step - loss: 0.3366 - accuracy: 0.8625\n",
      "Epoch 85/100\n",
      "250/250 [==============================] - 0s 831us/step - loss: 0.3363 - accuracy: 0.8630\n",
      "Epoch 86/100\n",
      "250/250 [==============================] - 0s 708us/step - loss: 0.3365 - accuracy: 0.8618\n",
      "Epoch 87/100\n",
      "250/250 [==============================] - 0s 689us/step - loss: 0.3366 - accuracy: 0.8625\n",
      "Epoch 88/100\n",
      "250/250 [==============================] - 0s 705us/step - loss: 0.3362 - accuracy: 0.8637\n",
      "Epoch 89/100\n",
      "250/250 [==============================] - 0s 699us/step - loss: 0.3366 - accuracy: 0.8635\n",
      "Epoch 90/100\n",
      "250/250 [==============================] - 0s 704us/step - loss: 0.3366 - accuracy: 0.8626\n",
      "Epoch 91/100\n",
      "250/250 [==============================] - 0s 699us/step - loss: 0.3363 - accuracy: 0.8630\n",
      "Epoch 92/100\n",
      "250/250 [==============================] - 0s 690us/step - loss: 0.3366 - accuracy: 0.8614\n",
      "Epoch 93/100\n",
      "250/250 [==============================] - 0s 910us/step - loss: 0.3364 - accuracy: 0.8627\n",
      "Epoch 94/100\n",
      "250/250 [==============================] - 0s 936us/step - loss: 0.3363 - accuracy: 0.8630\n",
      "Epoch 95/100\n",
      "250/250 [==============================] - 0s 687us/step - loss: 0.3362 - accuracy: 0.8626\n",
      "Epoch 96/100\n",
      "250/250 [==============================] - 0s 682us/step - loss: 0.3362 - accuracy: 0.8634\n",
      "Epoch 97/100\n",
      "250/250 [==============================] - 0s 687us/step - loss: 0.3363 - accuracy: 0.8616\n",
      "Epoch 98/100\n",
      "250/250 [==============================] - 0s 710us/step - loss: 0.3360 - accuracy: 0.8616\n",
      "Epoch 99/100\n",
      "250/250 [==============================] - 0s 691us/step - loss: 0.3358 - accuracy: 0.8622\n",
      "Epoch 100/100\n",
      "250/250 [==============================] - 0s 681us/step - loss: 0.3361 - accuracy: 0.8619\n"
     ]
    },
    {
     "data": {
      "text/plain": "<keras.src.callbacks.History at 0x7f8be28a6ac0>"
     },
     "execution_count": 20,
     "metadata": {},
     "output_type": "execute_result"
    }
   ],
   "source": [
    "ann.fit(X_train, y_train, batch_size = 32, epochs = 100)"
   ]
  },
  {
   "cell_type": "markdown",
   "metadata": {
    "colab_type": "text",
    "id": "tJj5k2MxZga3"
   },
   "source": [
    "## Part 4 - Making the predictions and evaluating the model"
   ]
  },
  {
   "cell_type": "markdown",
   "metadata": {
    "colab_type": "text",
    "id": "84QFoqGYeXHL"
   },
   "source": [
    "### Predicting the result of a single observation"
   ]
  },
  {
   "cell_type": "markdown",
   "metadata": {
    "colab_type": "text",
    "id": "CGRo3eacgDdC"
   },
   "source": [
    "**Homework**\n",
    "\n",
    "Use our ANN model to predict if the customer with the following informations will leave the bank: \n",
    "\n",
    "Geography: France\n",
    "\n",
    "Credit Score: 600\n",
    "\n",
    "Gender: Male\n",
    "\n",
    "Age: 40 years old\n",
    "\n",
    "Tenure: 3 years\n",
    "\n",
    "Balance: \\$ 60000\n",
    "\n",
    "Number of Products: 2\n",
    "\n",
    "Does this customer have a credit card? Yes\n",
    "\n",
    "Is this customer an Active Member: Yes\n",
    "\n",
    "Estimated Salary: \\$ 50000\n",
    "\n",
    "So, should we say goodbye to that customer?"
   ]
  },
  {
   "cell_type": "markdown",
   "metadata": {
    "colab_type": "text",
    "id": "ZhU1LTgPg-kH"
   },
   "source": [
    "Solution of probability by using sigmiod** "
   ]
  },
  {
   "cell_type": "code",
   "execution_count": 20,
   "metadata": {
    "colab": {
     "base_uri": "https://localhost:8080/",
     "height": 34
    },
    "colab_type": "code",
    "executionInfo": {
     "elapsed": 33990,
     "status": "ok",
     "timestamp": 1590257481594,
     "user": {
      "displayName": "Hadelin de Ponteves",
      "photoUrl": "https://lh3.googleusercontent.com/a-/AOh14GhEuXdT7eQweUmRPW8_laJuPggSK6hfvpl5a6WBaA=s64",
      "userId": "15047218817161520419"
     },
     "user_tz": -240
    },
    "id": "2d8IoCCkeWGL",
    "outputId": "957f3970-e197-4c3b-a150-7f69dc567f5d",
    "ExecuteTime": {
     "end_time": "2023-09-19T03:25:26.210972Z",
     "start_time": "2023-09-19T03:25:26.202533Z"
    }
   },
   "outputs": [],
   "source": []
  },
  {
   "cell_type": "markdown",
   "metadata": {
    "colab_type": "text",
    "id": "u7yx47jPZt11"
   },
   "source": [
    "### Predicting the Test set results with threshold 0.5"
   ]
  },
  {
   "cell_type": "code",
   "execution_count": null,
   "metadata": {
    "colab": {
     "base_uri": "https://localhost:8080/",
     "height": 137
    },
    "colab_type": "code",
    "executionInfo": {
     "elapsed": 33987,
     "status": "ok",
     "timestamp": 1590257481595,
     "user": {
      "displayName": "Hadelin de Ponteves",
      "photoUrl": "https://lh3.googleusercontent.com/a-/AOh14GhEuXdT7eQweUmRPW8_laJuPggSK6hfvpl5a6WBaA=s64",
      "userId": "15047218817161520419"
     },
     "user_tz": -240
    },
    "id": "nIyEeQdRZwgs",
    "outputId": "82330ba8-9bdc-4fd1-d3cf-b6d78ee7c2a3"
   },
   "outputs": [],
   "source": []
  },
  {
   "cell_type": "markdown",
   "metadata": {
    "colab_type": "text",
    "id": "o0oyfLWoaEGw"
   },
   "source": [
    "###  Confusion Matrix & Accuracy Score"
   ]
  },
  {
   "cell_type": "code",
   "execution_count": null,
   "metadata": {
    "colab": {
     "base_uri": "https://localhost:8080/",
     "height": 68
    },
    "colab_type": "code",
    "executionInfo": {
     "elapsed": 33981,
     "status": "ok",
     "timestamp": 1590257481595,
     "user": {
      "displayName": "Hadelin de Ponteves",
      "photoUrl": "https://lh3.googleusercontent.com/a-/AOh14GhEuXdT7eQweUmRPW8_laJuPggSK6hfvpl5a6WBaA=s64",
      "userId": "15047218817161520419"
     },
     "user_tz": -240
    },
    "id": "ci6K_r6LaF6P",
    "outputId": "4d854e9e-22d5-432f-f6e5-a102fe3ae0bd"
   },
   "outputs": [],
   "source": [
    "from sklearn.metrics import confusion_matrix, accuracy_score\n"
   ]
  }
 ],
 "metadata": {
  "colab": {
   "authorship_tag": "ABX9TyMeRFWFoGrdaL5S3dx5MWmb",
   "collapsed_sections": [],
   "name": "artificial_neural_network.ipynb",
   "provenance": [],
   "toc_visible": true
  },
  "kernelspec": {
   "display_name": "Python 3 (ipykernel)",
   "language": "python",
   "name": "python3"
  },
  "language_info": {
   "codemirror_mode": {
    "name": "ipython",
    "version": 3
   },
   "file_extension": ".py",
   "mimetype": "text/x-python",
   "name": "python",
   "nbconvert_exporter": "python",
   "pygments_lexer": "ipython3",
   "version": "3.8.8"
  }
 },
 "nbformat": 4,
 "nbformat_minor": 1
}
